{
 "cells": [
  {
   "cell_type": "code",
   "execution_count": 2,
   "id": "63ed7426",
   "metadata": {},
   "outputs": [
    {
     "name": "stdout",
     "output_type": "stream",
     "text": [
      "C:\\Users\\AElegido\\Downloads\\Routes\n"
     ]
    }
   ],
   "source": [
    "import os\n",
    "\n",
    "os.chdir('C:/Users/AElegido/Downloads/Routes')\n",
    "print(os.getcwd())"
   ]
  },
  {
   "cell_type": "markdown",
   "id": "f1b596ce",
   "metadata": {},
   "source": [
    "<h1><center><b><font size=\"5\">ROUTE ALARMS</font></b></center></h1>"
   ]
  },
  {
   "cell_type": "code",
   "execution_count": 3,
   "id": "9689fe87",
   "metadata": {},
   "outputs": [],
   "source": [
    "import pandas as pd\n",
    "import datetime\n",
    "\n",
    "# Load the CSV file\n",
    "df = pd.read_csv('Alarms_2023-05-02_2023-05-02.csv')\n",
    "\n",
    "# convert Time Column to datetime format\n",
    "df['Time'] = pd.to_datetime(df['Time'])\n",
    "\n",
    "# Filter the Time column based on the specified time ranges\n",
    "time_range_1 = df[(df['Time'].dt.time >= datetime.time(17, 40)) & (df['Time'].dt.time <= datetime.time(18, 20))]\n",
    "time_range_2 = df[(df['Time'].dt.time >= datetime.time(20, 40)) & (df['Time'].dt.time <= datetime.time(21, 20))]\n",
    "\n",
    "\n",
    "# TimeRange 3\n",
    "start_time = pd.Timestamp('2023-03-14 23:40:00')\n",
    "end_time = pd.Timestamp('2023-03-15 00:20:00')\n",
    "time_range_3 = df[(df['Time'] >= start_time) & (df['Time'] <= end_time)]\n",
    "\n",
    "time_range_4 = df[(df['Time'].dt.time >= datetime.time(2, 40)) & (df['Time'].dt.time <= datetime.time(3, 20))]\n",
    "time_range_5 = df[(df['Time'].dt.time >= datetime.time(5, 40)) & (df['Time'].dt.time <= datetime.time(6, 20))]\n",
    "time_range_6 = df[(df['Time'].dt.time >= datetime.time(8, 40)) & (df['Time'].dt.time <= datetime.time(9, 20))]\n",
    "\n",
    "# Remove unwanted columns\n",
    "columns_to_remove = ['From', 'To', 'Voyage Code', 'Note Time', 'Note Title', 'Note Text', 'Name of User']\n",
    "time_range_1 = time_range_1.drop(columns=columns_to_remove)\n",
    "time_range_2 = time_range_2.drop(columns=columns_to_remove)\n",
    "time_range_3 = time_range_3.drop(columns=columns_to_remove)\n",
    "time_range_4 = time_range_4.drop(columns=columns_to_remove)\n",
    "time_range_5 = time_range_5.drop(columns=columns_to_remove)\n",
    "time_range_6 = time_range_6.drop(columns=columns_to_remove)\n",
    "\n",
    "# Remove duplicates in Vessel Column\n",
    "time_range_1.drop_duplicates(subset=['Vessel', 'Route Alarm', 'Stoppage Alarm'], inplace=True)\n",
    "time_range_2.drop_duplicates(subset=['Vessel', 'Route Alarm', 'Stoppage Alarm'], inplace=True)\n",
    "time_range_3.drop_duplicates(subset=['Vessel', 'Route Alarm', 'Stoppage Alarm'], inplace=True)\n",
    "time_range_4.drop_duplicates(subset=['Vessel', 'Route Alarm', 'Stoppage Alarm'], inplace=True)\n",
    "time_range_5.drop_duplicates(subset=['Vessel', 'Route Alarm', 'Stoppage Alarm'], inplace=True)\n",
    "time_range_6.drop_duplicates(subset=['Vessel', 'Route Alarm', 'Stoppage Alarm'], inplace=True)\n",
    "\n",
    "\n",
    "# Save the filtered dataframes to separate CSV files\n",
    "time_range_1.to_csv('alarms1800.csv', index=False)\n",
    "time_range_2.to_csv('alarms2100.csv', index=False)\n",
    "time_range_3.to_csv('alarms2400.csv', index=False)\n",
    "time_range_4.to_csv('alarms0300.csv', index=False)\n",
    "time_range_5.to_csv('alarms0600.csv', index=False)\n",
    "time_range_6.to_csv('alarms0900.csv', index=False)"
   ]
  },
  {
   "cell_type": "markdown",
   "id": "2b03a3ba",
   "metadata": {},
   "source": [
    "<h1><center><b><font size=\"5\">REPORTED WEATHER REPORT EVERY 0200 UTC</font></b></center></h1>"
   ]
  },
  {
   "cell_type": "code",
   "execution_count": 4,
   "id": "a9af1a22",
   "metadata": {},
   "outputs": [],
   "source": [
    "import pandas as pd\n",
    "from openpyxl import Workbook\n",
    "from openpyxl.utils.dataframe import dataframe_to_rows\n",
    "from openpyxl.styles import Font, PatternFill\n",
    "from openpyxl.styles import Alignment\n",
    "\n",
    "# Load CSV file into a Pandas DataFrame\n",
    "df = pd.read_csv('noon-reports-202305020908.csv')\n",
    "\n",
    "# Select only the required columns\n",
    "df = df[['Vessel Name', 'Report Type', 'Message date (LT)', 'Message date (GMT)', 'Condition', 'Speed (knots)', 'Voyage ordered speed (knots)', 'Voyage avg speed (knots)', 'Wind Direction (Degree)', 'Wind force (Bft)', 'Current Direction', 'Current Speed (knots)', 'Sea direction (Degree)', 'Sea state (Douglas scale)', 'Arrival port', 'Departure port', 'Next port ETA (GMT)', 'Next port ETA (LT)']]\n",
    "\n",
    "# Convert Wind force (Bft) to Integer\n",
    "df['Wind force (Bft)'] = df['Wind force (Bft)'].fillna(0).astype(int)\n",
    "\n",
    "# Filter to Wind Force greater or equal to 7\n",
    "df = df[df['Wind force (Bft)'] >= 7]\n",
    "\n",
    "\n",
    "# Save the filtered DataFrame as an Excel file\n",
    "workbook = Workbook()\n",
    "worksheet = workbook.active\n",
    "\n",
    "# Write the DataFrame to the worksheet\n",
    "for row in dataframe_to_rows(df, index=False, header=True):\n",
    "    worksheet.append(row)\n",
    "\n",
    "# Format the Wind force (Bft) column\n",
    "wind_force_col = worksheet['J']\n",
    "for cell in wind_force_col[1:]:\n",
    "    if cell.value >= 7:\n",
    "        cell.font = Font(bold=True, color='FF0000')  # Set bold and red font\n",
    "        \n",
    "# Auto-fit the column width\n",
    "for column_cells in worksheet.columns:\n",
    "    length = max(len(str(cell.value)) for cell in column_cells)\n",
    "    worksheet.column_dimensions[column_cells[0].column_letter].width = length\n",
    "    \n",
    "# Set row height to 20\n",
    "for row in worksheet.rows:\n",
    "    row_height = 20\n",
    "    for cell in row:\n",
    "        cell.alignment = Alignment(horizontal='center', vertical='center')\n",
    "        # Set horizontal and vertical center alignment\n",
    "    worksheet.row_dimensions[row[0].row].height = row_height\n",
    "\n",
    "# Save the updated Excel file\n",
    "workbook.save('noon-reports-202305020908.xlsx')"
   ]
  },
  {
   "cell_type": "markdown",
   "id": "d014da7a",
   "metadata": {},
   "source": [
    "<h1><center><b><font size=\"5\">DOWNLOADING EXCEL ROUTE PLAN THEN CONVERTING TO CSV AND RTZ</font></b></center></h1>"
   ]
  },
  {
   "cell_type": "code",
   "execution_count": 1,
   "id": "e35988c2",
   "metadata": {},
   "outputs": [
    {
     "name": "stdout",
     "output_type": "stream",
     "text": [
      "Enter the date and time from which you want to save attachments in the format 'YYYY-MM-DD HH:MM:SS': 2023-06-24 20:27:00\n"
     ]
    }
   ],
   "source": [
    "import os\n",
    "import re\n",
    "import pandas as pd\n",
    "import win32com.client\n",
    "from datetime import datetime, timezone, timedelta\n",
    "\n",
    "# Set up connection to Outlook\n",
    "outlook = win32com.client.Dispatch(\"Outlook.Application\").GetNamespace(\"MAPI\")\n",
    "inbox = outlook.Folders[\"ccrops@csmcy.com\"].Folders[\"Inbox\"]\n",
    "\n",
    "# Define the folder where you want to save the files\n",
    "output_folder = r\"C:/Users/AElegido/Downloads/Routes\"\n",
    "\n",
    "# Define the date and time from which you want to save attachments\n",
    "cyprus_time_str = input(\"Enter the date and time from which you want to save attachments in the format 'YYYY-MM-DD HH:MM:SS': \")\n",
    "cyprus_time = datetime.strptime(cyprus_time_str, \"%Y-%m-%d %H:%M:%S\")\n",
    "utc_time = cyprus_time - timedelta(hours=2) # Cyprus Time is 2 hours ahead of UTC\n",
    "utc_timezone = timezone.utc\n",
    "\n",
    "# Loop through the emails in your Inbox\n",
    "for message in inbox.Items:\n",
    "    try:\n",
    "        # Make the CreationTime attribute timezone-aware\n",
    "        creation_time = message.CreationTime.replace(tzinfo=timezone(timedelta(hours=2)))\n",
    "\n",
    "        # Check if the email has been created after the specified date and time\n",
    "        if creation_time > utc_time.replace(tzinfo=utc_timezone):\n",
    "            # Check if the email has an attachment\n",
    "            if message.Attachments.Count > 0:\n",
    "                # Loop through the attachments\n",
    "                for attachment in message.Attachments:\n",
    "                    # Check if the attachment is an Excel or RTZ file\n",
    "                    if re.search(r\"\\.xls[xm]?$\", attachment.FileName, re.IGNORECASE) or re.search(r\"\\.rtz$\", attachment.FileName, re.IGNORECASE):\n",
    "                        # Save the file to the output folder\n",
    "                        attachment.SaveAsFile(os.path.join(output_folder, attachment.FileName))\n",
    "\n",
    "                        # If the file is an Excel file, read it as a Pandas dataframe and save it as a CSV file\n",
    "                        if re.search(r\"\\.xls[xm]?$\", attachment.FileName, re.IGNORECASE):\n",
    "                            excel_file = pd.read_excel(os.path.join(output_folder, attachment.FileName))\n",
    "                            csv_file_name = os.path.splitext(attachment.FileName)[0] + \".csv\"\n",
    "                            excel_file.to_csv(os.path.join(output_folder, csv_file_name), index=False)\n",
    "    except Exception as e:\n",
    "        print(f\"Error processing email: {e}\")"
   ]
  },
  {
   "cell_type": "code",
   "execution_count": null,
   "id": "33ed8eb7",
   "metadata": {},
   "outputs": [],
   "source": []
  }
 ],
 "metadata": {
  "kernelspec": {
   "display_name": "Python 3 (ipykernel)",
   "language": "python",
   "name": "python3"
  },
  "language_info": {
   "codemirror_mode": {
    "name": "ipython",
    "version": 3
   },
   "file_extension": ".py",
   "mimetype": "text/x-python",
   "name": "python",
   "nbconvert_exporter": "python",
   "pygments_lexer": "ipython3",
   "version": "3.10.9"
  }
 },
 "nbformat": 4,
 "nbformat_minor": 5
}
